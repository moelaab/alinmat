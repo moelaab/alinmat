{
 "cells": [
  {
   "cell_type": "markdown",
   "id": "ec9ef333",
   "metadata": {},
   "source": [
    "# Alternate PowerShell Hosts\n",
    "\n",
    "## Hypothesis\n",
    "\n",
    "Adversaries might be leveraging alternate PowerShell Hosts to execute PowerShell evading traditional PowerShell detections that look for powershell.exe in my environment.\n",
    "\n",
    "## Technical Context\n",
    "\n",
    "## Offensive Tradecraft\n",
    "\n",
    "Adversaries can abuse alternate signed PowerShell Hosts to evade application whitelisting solutions that block powershell.exe and naive logging based upon traditional PowerShell hosts.\n",
    "Characteristics of a PowerShell host (Matt Graeber @mattifestation) >\n",
    "* These binaries are almost always C#/.NET .exes/.dlls\n",
    "* These binaries have System.Management.Automation.dll as a referenced assembly\n",
    "* These may not always be \"built in\" binaries\n",
    "\n",
    "## Pre-Recorded Security Datasets\n",
    "\n",
    "| Metadata  |    Value  |\n",
    "|:----------|:----------|\n",
    "| docs      | https://securitydatasets.com/notebooks/atomic/windows/execution/SDWIN-190518211456.html        |\n",
    "| link      | https://raw.githubusercontent.com/OTRF/Security-Datasets/master/datasets/atomic/windows/lateral_movement/host/empire_psremoting_stager.zip |\n",
    "\n",
    "### Download Dataset"
   ]
  },
  {
   "cell_type": "code",
   "execution_count": null,
   "id": "9e284fea",
   "metadata": {},
   "outputs": [],
   "source": [
    "import requests\n",
    "from zipfile import ZipFile\n",
    "from io import BytesIO\n",
    "\n",
    "url = 'https://raw.githubusercontent.com/OTRF/Security-Datasets/master/datasets/atomic/windows/lateral_movement/host/empire_psremoting_stager.zip'\n",
    "zipFileRequest = requests.get(url)\n",
    "zipFile = ZipFile(BytesIO(zipFileRequest.content))\n",
    "datasetJSONPath = zipFile.extract(zipFile.namelist()[0])"
   ]
  },
  {
   "cell_type": "markdown",
   "id": "0ba13f44",
   "metadata": {},
   "source": [
    "### Read Dataset"
   ]
  },
  {
   "cell_type": "code",
   "execution_count": null,
   "id": "e124cc6c",
   "metadata": {},
   "outputs": [],
   "source": [
    "import pandas as pd\n",
    "from pandas.io import json\n",
    "\n",
    "df = json.read_json(path_or_buf=datasetJSONPath, lines=True)"
   ]
  },
  {
   "cell_type": "markdown",
   "id": "9acba4e9",
   "metadata": {},
   "source": [
    "## Analytics\n",
    "\n",
    "A few initial ideas to explore your data and validate your detection logic:\n",
    "\n",
    "### Analytic I\n",
    "\n",
    "Within the classic PowerShell log, event ID 400 indicates when a new PowerShell host process has started. Excluding PowerShell.exe is a good way to find alternate PowerShell hosts.\n",
    "\n",
    "| Data source | Event Provider | Relationship | Event |\n",
    "|:------------|:---------------|--------------|-------|\n",
    "| Powershell | Windows PowerShell | Application host started | 400 |\n",
    "| Powershell | Microsoft-Windows-PowerShell/Operational | User started Application host | 4103 |\n",
    "\n",
    "#### Logic\n",
    "\n",
    "```{code-block}\n",
    "SELECT `@timestamp`, Hostname, Channel\n",
    "FROM dataTable\n",
    "WHERE (Channel = \"Microsoft-Windows-PowerShell/Operational\" OR Channel = \"Windows PowerShell\")\n",
    "    AND (EventID = 400 OR EventID = 4103)\n",
    "    AND NOT Message LIKE \"%Host Application%powershell%\"\n",
    "```\n",
    "\n",
    "#### Pandas Query"
   ]
  },
  {
   "cell_type": "code",
   "execution_count": null,
   "id": "41618193",
   "metadata": {},
   "outputs": [],
   "source": [
    "(\n",
    "df[['@timestamp','Hostname','Channel']]\n",
    "\n",
    "[((df['Channel'] == 'Microsoft-Windows-PowerShell/Operational')|(Windows PowerShell))\n",
    "    & ((df['EventID'] == 400)|(df['EventID'] == 4103))\n",
    "    & (~df['Message'].str.contains('.*Host Application%powershell.*', regex=True))\n",
    "]\n",
    ".head()\n",
    ")"
   ]
  },
  {
   "cell_type": "markdown",
   "id": "8f912e7d",
   "metadata": {},
   "source": [
    "### Analytic II\n",
    "\n",
    "Looking for processes loading a specific PowerShell DLL is a very effective way to document the use of PowerShell in your environment.\n",
    "\n",
    "| Data source | Event Provider | Relationship | Event |\n",
    "|:------------|:---------------|--------------|-------|\n",
    "| Module | Microsoft-Windows-Sysmon/Operational | Process loaded Dll | 7 |\n",
    "\n",
    "#### Logic\n",
    "\n",
    "```{code-block}\n",
    "SELECT `@timestamp`, Hostname, Image, Description\n",
    "FROM dataTable\n",
    "WHERE Channel = \"Microsoft-Windows-Sysmon/Operational\"\n",
    "    AND EventID = 7\n",
    "    AND (lower(Description) = \"system.management.automation\" OR lower(ImageLoaded) LIKE \"%system.management.automation%\")\n",
    "    AND NOT Image LIKE \"%powershell.exe\"\n",
    "```\n",
    "\n",
    "#### Pandas Query"
   ]
  },
  {
   "cell_type": "code",
   "execution_count": null,
   "id": "76cb968a",
   "metadata": {},
   "outputs": [],
   "source": [
    "(\n",
    "df[['@timestamp','Hostname','Image','Description']]\n",
    "\n",
    "[(df['Channel'] == 'Microsoft-Windows-Sysmon/Operational')\n",
    "    & (df['EventID'] == 7)\n",
    "    & (\n",
    "      (df['Description'].str.lower() == 'system.management.automation')\n",
    "      | (df['ImageLoaded'].str.contains('.*system.management.automation.*', regex=True))\n",
    "    )\n",
    "    & (~df['Image'].str.lower().str.endswith('powershell.exe', na=False))\n",
    "]\n",
    ")"
   ]
  },
  {
   "cell_type": "markdown",
   "id": "67be5f34",
   "metadata": {},
   "source": [
    "### Analytic III\n",
    "\n",
    "Monitoring for `PSHost*` pipes is another interesting way to find other alternate PowerShell hosts in your environment.\n",
    "\n",
    "| Data source | Event Provider | Relationship | Event |\n",
    "|:------------|:---------------|--------------|-------|\n",
    "| Named pipe | Microsoft-Windows-Sysmon/Operational | Process created Pipe | 17 |\n",
    "\n",
    "#### Logic\n",
    "\n",
    "```{code-block}\n",
    "SELECT `@timestamp`, Hostname, Image, PipeName\n",
    "FROM dataTable\n",
    "WHERE Channel = \"Microsoft-Windows-Sysmon/Operational\"\n",
    "    AND EventID = 17\n",
    "    AND lower(PipeName) LIKE \"\\\\\\pshost%\"\n",
    "    AND NOT Image LIKE \"%powershell.exe\"\n",
    "```\n",
    "\n",
    "#### Pandas Query"
   ]
  },
  {
   "cell_type": "code",
   "execution_count": null,
   "id": "eceadc65",
   "metadata": {},
   "outputs": [],
   "source": [
    "(\n",
    "df[['@timestamp','Hostname','Image','PipeName']]\n",
    "\n",
    "[(df['Channel'] == 'Microsoft-Windows-Sysmon/Operational')\n",
    "    & (df['EventID'] == 17)\n",
    "    & (df['PipeName'].str.lower().str.startswith('\\pshost', na=False))\n",
    "    & (~df['Image'].str.lower().str.endswith('powershell.exe', na=False))\n",
    "]\n",
    ".head()\n",
    ")"
   ]
  },
  {
   "cell_type": "markdown",
   "id": "89ed3d84",
   "metadata": {},
   "source": [
    "## Known Bypasses\n",
    "\n",
    "## False Positives\n",
    "\n",
    "\n",
    "\n",
    "## Hunter Notes\n",
    "\n",
    "* Explore the data produced in your lab environment with the analytics above and document what normal looks like from alternate powershell hosts. Then, take your findings and explore your production environment.\n",
    "* You can also run the script below named PowerShellHostFinder.ps1 by Matt Graber and audit PS host binaries in your environment.\n",
    "\n",
    "## Hunt Output\n",
    "\n",
    "| Type | Link |\n",
    "| :----| :----|\n",
    "| Sigma Rule | https://github.com/SigmaHQ/sigma/blob/master/rules/windows/powershell/powershell_module/posh_pm_alternate_powershell_hosts.yml |\n",
    "| Sigma Rule | https://github.com/SigmaHQ/sigma/blob/master/rules/windows/powershell/powershell_classic/posh_pc_alternate_powershell_hosts.yml |\n",
    "| Sigma Rule | https://github.com/SigmaHQ/sigma/blob/master/rules/windows/image_load/sysmon_alternate_powershell_hosts_moduleload.yml |\n",
    "| Sigma Rule | https://github.com/SigmaHQ/sigma/blob/master/rules/windows/pipe_created/sysmon_alternate_powershell_hosts_pipe.yml |\n",
    "\n",
    "## References\n",
    "* https://twitter.com/mattifestation/status/971840487882506240\n",
    "* https://gist.githubusercontent.com/mattifestation/fcae777470f1bdeb9e4b32f93c245fd3/raw/abbe79c660829ab9aad58581baf681655f6ba305/PowerShellHostFinder.ps1"
   ]
  }
 ],
 "metadata": {
  "jupytext": {
   "formats": "md:myst",
   "text_representation": {
    "extension": ".md",
    "format_name": "myst",
    "format_version": "1.3",
    "jupytext_version": "1.14.1"
   }
  },
  "kernelspec": {
   "display_name": "Python 3",
   "language": "python",
   "name": "python3"
  },
  "source_map": [
   13,
   40,
   49,
   53,
   58,
   85,
   95,
   118,
   131,
   154,
   165
  ]
 },
 "nbformat": 4,
 "nbformat_minor": 5
}