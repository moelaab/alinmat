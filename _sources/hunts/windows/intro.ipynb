{
 "cells": [
  {
   "cell_type": "markdown",
   "id": "fc633606",
   "metadata": {},
   "source": [
    "# Windows\n",
    "\n",
    "## ATT&CK Navigator View\n",
    "\n",
    "<iframe src=\"https://mitre-attack.github.io/attack-navigator/enterprise/#layerURL=https%3A%2F%2Fraw.githubusercontent.com%2FOTRF%2FThreatHunter-Playbook%2Fmaster%2Fdocs%2Fhunts%2Fwindows%2Fattack_navigator.json&tabs=false&selecting_techniques=false\" width=\"950\" height=\"450\"></iframe>\n",
    "\n",
    "## Interactive Table: 26 Hunts"
   ]
  },
  {
   "cell_type": "code",
   "execution_count": 1,
   "id": "6cf4f028",
   "metadata": {
    "tags": [
     "remove-input"
    ]
   },
   "outputs": [
    {
     "ename": "ModuleNotFoundError",
     "evalue": "No module named 'itables'",
     "output_type": "error",
     "traceback": [
      "\u001b[0;31m---------------------------------------------------------------------------\u001b[0m",
      "\u001b[0;31mModuleNotFoundError\u001b[0m                       Traceback (most recent call last)",
      "\u001b[0;32m<ipython-input-1-eac68579c40a>\u001b[0m in \u001b[0;36m<cell line: 2>\u001b[0;34m()\u001b[0m\n\u001b[1;32m      1\u001b[0m \u001b[0;32mimport\u001b[0m \u001b[0mpandas\u001b[0m \u001b[0;32mas\u001b[0m \u001b[0mpd\u001b[0m\u001b[0;34m\u001b[0m\u001b[0;34m\u001b[0m\u001b[0m\n\u001b[0;32m----> 2\u001b[0;31m \u001b[0;32mimport\u001b[0m \u001b[0mitables\u001b[0m\u001b[0;34m.\u001b[0m\u001b[0moptions\u001b[0m \u001b[0;32mas\u001b[0m \u001b[0mopt\u001b[0m\u001b[0;34m\u001b[0m\u001b[0;34m\u001b[0m\u001b[0m\n\u001b[0m\u001b[1;32m      3\u001b[0m \u001b[0;32mfrom\u001b[0m \u001b[0mitables\u001b[0m \u001b[0;32mimport\u001b[0m \u001b[0minit_notebook_mode\u001b[0m\u001b[0;34m\u001b[0m\u001b[0;34m\u001b[0m\u001b[0m\n\u001b[1;32m      4\u001b[0m \u001b[0;34m\u001b[0m\u001b[0m\n\u001b[1;32m      5\u001b[0m \u001b[0mopt\u001b[0m\u001b[0;34m.\u001b[0m\u001b[0mclasses\u001b[0m \u001b[0;34m=\u001b[0m \u001b[0;34m[\u001b[0m\u001b[0;34m\"display\"\u001b[0m\u001b[0;34m,\u001b[0m \u001b[0;34m\"cell-border\"\u001b[0m\u001b[0;34m]\u001b[0m\u001b[0;34m\u001b[0m\u001b[0;34m\u001b[0m\u001b[0m\n",
      "\u001b[0;31mModuleNotFoundError\u001b[0m: No module named 'itables'",
      "",
      "\u001b[0;31m---------------------------------------------------------------------------\u001b[0;32m\nNOTE: If your import is failing due to a missing package, you can\nmanually install dependencies using either !pip or !apt.\n\nTo view examples of installing some common dependencies, click the\n\"Open Examples\" button below.\n\u001b[0;31m---------------------------------------------------------------------------\u001b[0m\n"
     ]
    }
   ],
   "source": [
    "import pandas as pd\n",
    "import itables.options as opt\n",
    "from itables import init_notebook_mode\n",
    "\n",
    "opt.classes = [\"display\", \"cell-border\"]\n",
    "init_notebook_mode(all_interactive=True)\n",
    "\n",
    "def make_clickable(id,name):\n",
    "    return f'<a href=\"https://threathunterplaybook.com/hunts/windows/{id}/notebook.html\">{name}</a>'\n",
    "\n",
    "df = pd.read_csv('analytic_summary.csv')\n",
    "df['Title'] = df.apply(lambda x: make_clickable(x['Id'], x['Title']), axis=1)\n",
    "df.drop('Id', axis=1, inplace=True)\n",
    "df"
   ]
  }
 ],
 "metadata": {
  "jupytext": {
   "formats": "md:myst",
   "text_representation": {
    "extension": ".md",
    "format_name": "myst",
    "format_version": "1.3",
    "jupytext_version": "1.14.1"
   }
  },
  "kernelspec": {
   "display_name": "Python 3",
   "language": "python",
   "name": "python3"
  },
  "language_info": {
   "codemirror_mode": {
    "name": "ipython",
    "version": 3
   },
   "file_extension": ".py",
   "mimetype": "text/x-python",
   "name": "python",
   "nbconvert_exporter": "python",
   "pygments_lexer": "ipython3",
   "version": "3.10.12"
  },
  "source_map": [
   13,
   23
  ]
 },
 "nbformat": 4,
 "nbformat_minor": 5
}