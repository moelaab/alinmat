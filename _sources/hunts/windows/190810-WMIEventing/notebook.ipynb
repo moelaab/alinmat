{
 "cells": [
  {
   "cell_type": "markdown",
   "id": "5756a043",
   "metadata": {},
   "source": [
    "# WMI Eventing\n",
    "\n",
    "## Hypothesis\n",
    "\n",
    "Adversaries might be leveraging WMI eventing for persistence in my environment.\n",
    "\n",
    "## Technical Context\n",
    "\n",
    "WMI is the Microsoft implementation of the Web-Based Enterprise Management (WBEM) and Common Information Model (CIM). Both standards aim to provide an industry-agnostic means of collecting and transmitting information related to any managed component in an enterprise.\n",
    "An example of a managed component in WMI would be a running process, registry key, installed service, file information, etc.\n",
    "At a high level, Microsoft implementation of these standards can be summarized as follows > Managed Components Managed components are represented as WMI objects â€” class instances representing highly structured operating system data. Microsoft provides a wealth of WMI objects that communicate information related to the operating system. E.g. Win32_Process, Win32_Service, AntiVirusProduct, Win32_StartupCommand, etc.\n",
    "\n",
    "## Offensive Tradecraft\n",
    "\n",
    "From an offensive perspective WMI has the ability to trigger off nearly any conceivable event, making it a good technique for persistence.\n",
    "\n",
    "Three requirements\n",
    "* Filter - An action to trigger off of\n",
    "* Consumer - An action to take upon triggering the filter\n",
    "* Binding - Registers a FilterConsumer\n",
    "\n",
    "## Pre-Recorded Security Datasets\n",
    "\n",
    "| Metadata  |    Value  |\n",
    "|:----------|:----------|\n",
    "| docs      | https://securitydatasets.com/notebooks/atomic/windows/persistence/SDWIN-190518184306.html        |\n",
    "| link      | https://raw.githubusercontent.com/OTRF/Security-Datasets/master/datasets/atomic/windows/persistence/host/empire_wmi_local_event_subscriptions_elevated_user.zip |\n",
    "\n",
    "### Download Dataset"
   ]
  },
  {
   "cell_type": "code",
   "execution_count": null,
   "id": "f6082701",
   "metadata": {},
   "outputs": [],
   "source": [
    "import requests\n",
    "from zipfile import ZipFile\n",
    "from io import BytesIO\n",
    "\n",
    "url = 'https://raw.githubusercontent.com/OTRF/Security-Datasets/master/datasets/atomic/windows/persistence/host/empire_wmi_local_event_subscriptions_elevated_user.zip'\n",
    "zipFileRequest = requests.get(url)\n",
    "zipFile = ZipFile(BytesIO(zipFileRequest.content))\n",
    "datasetJSONPath = zipFile.extract(zipFile.namelist()[0])"
   ]
  },
  {
   "cell_type": "markdown",
   "id": "b2f69191",
   "metadata": {},
   "source": [
    "### Read Dataset"
   ]
  },
  {
   "cell_type": "code",
   "execution_count": null,
   "id": "22a9424f",
   "metadata": {},
   "outputs": [],
   "source": [
    "import pandas as pd\n",
    "from pandas.io import json\n",
    "\n",
    "df = json.read_json(path_or_buf=datasetJSONPath, lines=True)"
   ]
  },
  {
   "cell_type": "markdown",
   "id": "d5f872d3",
   "metadata": {},
   "source": [
    "## Analytics\n",
    "\n",
    "A few initial ideas to explore your data and validate your detection logic:\n",
    "\n",
    "### Analytic I\n",
    "\n",
    "Look for WMI event filters registered.\n",
    "\n",
    "| Data source | Event Provider | Relationship | Event |\n",
    "|:------------|:---------------|--------------|-------|\n",
    "| WMI object | Microsoft-Windows-Sysmon/Operational | User created Wmi filter | 19 |\n",
    "\n",
    "#### Logic\n",
    "\n",
    "```{code-block}\n",
    "SELECT `@timestamp`, Hostname, User, EventNamespace, Name, Query\n",
    "FROM dataTable\n",
    "WHERE Channel = \"Microsoft-Windows-Sysmon/Operational\"\n",
    "    AND EventID = 19\n",
    "```\n",
    "\n",
    "#### Pandas Query"
   ]
  },
  {
   "cell_type": "code",
   "execution_count": null,
   "id": "032900b4",
   "metadata": {},
   "outputs": [],
   "source": [
    "(\n",
    "df[['@timestamp','Hostname','User','EventNamespace','Name','Query']]\n",
    "\n",
    "[(df['Channel'] == 'Microsoft-Windows-Sysmon/Operational')\n",
    "    & (df['EventID'] == 19)\n",
    "]\n",
    ".head()\n",
    ")"
   ]
  },
  {
   "cell_type": "markdown",
   "id": "54d3fa48",
   "metadata": {},
   "source": [
    "### Analytic II\n",
    "\n",
    "Look for WMI event consumers registered.\n",
    "\n",
    "| Data source | Event Provider | Relationship | Event |\n",
    "|:------------|:---------------|--------------|-------|\n",
    "| WMI object | Microsoft-Windows-Sysmon/Operational | User created Wmi consumer | 20 |\n",
    "\n",
    "#### Logic\n",
    "\n",
    "```{code-block}\n",
    "SELECT `@timestamp`, Hostname, User, Name, Type, Destination\n",
    "FROM dataTable\n",
    "WHERE Channel = \"Microsoft-Windows-Sysmon/Operational\"\n",
    "    AND EventID = 20\n",
    "```\n",
    "\n",
    "#### Pandas Query"
   ]
  },
  {
   "cell_type": "code",
   "execution_count": null,
   "id": "6afe8b82",
   "metadata": {},
   "outputs": [],
   "source": [
    "(\n",
    "df[['@timestamp','Hostname','User','Name','Type','Destination']]\n",
    "\n",
    "[(df['Channel'] == 'Microsoft-Windows-Sysmon/Operational')\n",
    "    & (df['EventID'] == 20)\n",
    "]\n",
    ".head()\n",
    ")"
   ]
  },
  {
   "cell_type": "markdown",
   "id": "f38e4dd4",
   "metadata": {},
   "source": [
    "### Analytic III\n",
    "\n",
    "Look for WMI consumers binding to filters.\n",
    "\n",
    "| Data source | Event Provider | Relationship | Event |\n",
    "|:------------|:---------------|--------------|-------|\n",
    "| WMI object | Microsoft-Windows-Sysmon/Operational | User created Wmi subscription | 21 |\n",
    "\n",
    "#### Logic\n",
    "\n",
    "```{code-block}\n",
    "SELECT `@timestamp`, Hostname, User, Operation, Consumer, Filter\n",
    "FROM dataTable\n",
    "WHERE Channel = \"Microsoft-Windows-Sysmon/Operational\"\n",
    "    AND EventID = 21\n",
    "```\n",
    "\n",
    "#### Pandas Query"
   ]
  },
  {
   "cell_type": "code",
   "execution_count": null,
   "id": "21da939f",
   "metadata": {},
   "outputs": [],
   "source": [
    "(\n",
    "df[['@timestamp','Hostname','User','Operation','Consumer','Filter']]\n",
    "\n",
    "[(df['Channel'] == 'Microsoft-Windows-Sysmon/Operational')\n",
    "    & (df['EventID'] == 21)\n",
    "]\n",
    ".head()\n",
    ")"
   ]
  },
  {
   "cell_type": "markdown",
   "id": "73789c5b",
   "metadata": {},
   "source": [
    "### Analytic IV\n",
    "\n",
    "Look for events related to the registration of FilterToConsumerBinding.\n",
    "\n",
    "| Data source | Event Provider | Relationship | Event |\n",
    "|:------------|:---------------|--------------|-------|\n",
    "| WMI object | Microsoft-Windows-WMI-Activity/Operational | Wmi subscription created | 5861 |\n",
    "\n",
    "#### Logic\n",
    "\n",
    "```{code-block}\n",
    "SELECT `@timestamp`, Hostname, Message\n",
    "FROM dataTable\n",
    "WHERE Channel = \"Microsoft-Windows-WMI-Activity/Operational\"\n",
    "    AND EventID = 5861\n",
    "```\n",
    "\n",
    "#### Pandas Query"
   ]
  },
  {
   "cell_type": "code",
   "execution_count": null,
   "id": "f8ce70d9",
   "metadata": {},
   "outputs": [],
   "source": [
    "(\n",
    "df[['@timestamp','Hostname','Message']]\n",
    "\n",
    "[(df['Channel'] == 'Microsoft-Windows-WMI-Activity/Operational')\n",
    "    & (df['EventID'] == 5861)\n",
    "]\n",
    ".head()\n",
    ")"
   ]
  },
  {
   "cell_type": "markdown",
   "id": "e6379d7b",
   "metadata": {},
   "source": [
    "## Known Bypasses\n",
    "\n",
    "## False Positives\n",
    "\n",
    "## Hunter Notes\n",
    "\n",
    "## References\n",
    "* https://www.blackhat.com/docs/us-15/materials/us-15-Graeber-Abusing-Windows-Management-Instrumentation-WMI-To-Build-A-Persistent%20Asynchronous-And-Fileless-Backdoor.pdf\n",
    "* https://twitter.com/mattifestation/status/899646620148539397\n",
    "* https://www.darkoperator.com/blog/2017/10/14/basics-of-tracking-wmi-activity"
   ]
  }
 ],
 "metadata": {
  "jupytext": {
   "formats": "md:myst",
   "text_representation": {
    "extension": ".md",
    "format_name": "myst",
    "format_version": "1.3",
    "jupytext_version": "1.14.1"
   }
  },
  "kernelspec": {
   "display_name": "Python 3",
   "language": "python",
   "name": "python3"
  },
  "source_map": [
   13,
   45,
   54,
   58,
   63,
   88,
   97,
   118,
   127,
   148,
   157,
   178,
   187
  ]
 },
 "nbformat": 4,
 "nbformat_minor": 5
}