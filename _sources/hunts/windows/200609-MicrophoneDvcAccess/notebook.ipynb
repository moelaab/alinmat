{
 "cells": [
  {
   "cell_type": "markdown",
   "id": "225e8f2e",
   "metadata": {},
   "source": [
    "# Access to Microphone Device\n",
    "\n",
    "## Hypothesis\n",
    "\n",
    "Adversaries might be accessing the microphone in endpoints over the network.\n",
    "\n",
    "## Technical Context\n",
    "\n",
    "\n",
    "\n",
    "## Offensive Tradecraft\n",
    "\n",
    "An adversary can leverage a computer's peripheral devices (e.g., microphones and webcams) or applications (e.g., voice and video call services) to capture audio recordings for the purpose of listening into sensitive conversations to gather information.\n",
    "Based on some research from [@svch0st](https://twitter.com/svch0st) you can to determine when and how long a process had access to the microphone of an endpoint by monitoring the following registry key\n",
    "  * HKEY_LOCAL_MACHINE\\SOFTWARE\\Microsoft\\Windows\\CurrentVersion\\CapabilityAccessManager\\ConsentStore\\microphone\\.\n",
    "\n",
    "## Pre-Recorded Security Datasets\n",
    "\n",
    "| Metadata  |    Value  |\n",
    "|:----------|:----------|\n",
    "| docs      | https://securitydatasets.com/notebooks/atomic/windows/collection/SDWIN-200609225055.html        |\n",
    "| link      | https://raw.githubusercontent.com/OTRF/Security-Datasets/master/datasets/atomic/windows/collection/host/msf_record_mic.zip |\n",
    "\n",
    "### Download Dataset"
   ]
  },
  {
   "cell_type": "code",
   "execution_count": null,
   "id": "9f61d34f",
   "metadata": {},
   "outputs": [],
   "source": [
    "import requests\n",
    "from zipfile import ZipFile\n",
    "from io import BytesIO\n",
    "\n",
    "url = 'https://raw.githubusercontent.com/OTRF/Security-Datasets/master/datasets/atomic/windows/collection/host/msf_record_mic.zip'\n",
    "zipFileRequest = requests.get(url)\n",
    "zipFile = ZipFile(BytesIO(zipFileRequest.content))\n",
    "datasetJSONPath = zipFile.extract(zipFile.namelist()[0])"
   ]
  },
  {
   "cell_type": "markdown",
   "id": "1c4e84a6",
   "metadata": {},
   "source": [
    "### Read Dataset"
   ]
  },
  {
   "cell_type": "code",
   "execution_count": null,
   "id": "a255a76d",
   "metadata": {},
   "outputs": [],
   "source": [
    "import pandas as pd\n",
    "from pandas.io import json\n",
    "\n",
    "df = json.read_json(path_or_buf=datasetJSONPath, lines=True)"
   ]
  },
  {
   "cell_type": "markdown",
   "id": "b918ae6f",
   "metadata": {},
   "source": [
    "## Analytics\n",
    "\n",
    "A few initial ideas to explore your data and validate your detection logic:\n",
    "\n",
    "### Analytic I\n",
    "\n",
    "Look for any creation or modification of registry keys under `HKLM:\\SOFTWARE\\Microsoft\\Windows\\CurrentVersion\\CapabilityAccessManager\\ConsentStore\\microphone\\NonPackaged`.\n",
    "\n",
    "| Data source | Event Provider | Relationship | Event |\n",
    "|:------------|:---------------|--------------|-------|\n",
    "| Windows Registry | Microsoft-Windows-Sysmon/Operational | Process created Windows registry key | 12 |\n",
    "| Windows Registry | Microsoft-Windows-Sysmon/Operational | Process modified Windows registry key value | 13 |\n",
    "| Windows Registry | Microsoft-Windows-Sysmon/Operational | Process modified Windows registry key value | 14 |\n",
    "| Windows Registry | Microsoft-Windows-Sysmon/Operational | Process modified Windows registry key | 14 |\n",
    "\n",
    "#### Logic\n",
    "\n",
    "```{code-block}\n",
    "SELECT EventID, Message\n",
    "FROM dataTable\n",
    "WHERE Channel = 'Microsoft-Windows-Sysmon/Operational'\n",
    "  AND EventID IN (12,13,14)\n",
    "  AND LOWER(TargetObject) RLIKE '.*consentstore\\\\\\\\\\\\\\microphone.*'\n",
    "```\n",
    "\n",
    "#### Pandas Query"
   ]
  },
  {
   "cell_type": "code",
   "execution_count": null,
   "id": "ed154630",
   "metadata": {},
   "outputs": [],
   "source": [
    "(\n",
    "df[['@timestamp','EventID','Message']]\n",
    "\n",
    "[(df['Channel'] == 'Microsoft-Windows-Sysmon/Operational')\n",
    "    & (df['EventID'].isin([12,13,14]))\n",
    "    & (df['TargetObject'].str.lower().str.contains('.*consentstore\\\\\\\\microphone.*', regex=True))\n",
    "]\n",
    ".head()\n",
    ")"
   ]
  },
  {
   "cell_type": "markdown",
   "id": "30e438b0",
   "metadata": {},
   "source": [
    "### Analytic II\n",
    "\n",
    "Look for any creation or modification of registry keys under `HKLM:\\SOFTWARE\\Microsoft\\Windows\\CurrentVersion\\CapabilityAccessManager\\ConsentStore\\microphone\\NonPackaged`.\n",
    "\n",
    "| Data source | Event Provider | Relationship | Event |\n",
    "|:------------|:---------------|--------------|-------|\n",
    "| Windows Registry | Microsoft-Windows-Security-Auditing | Process accessed Windows registry key | 4663 |\n",
    "| Windows Registry | Microsoft-Windows-Security-Auditing | User accessed Windows registry key | 4663 |\n",
    "| Windows Registry | Microsoft-Windows-Security-Auditing | Process requested access Windows registry key | 4656 |\n",
    "| Windows Registry | Microsoft-Windows-Security-Auditing | User requested access Windows registry key | 4656 |\n",
    "| Windows Registry | Microsoft-Windows-Security-Auditing | Process modified Windows registry key value | 4657 |\n",
    "| Windows Registry | Microsoft-Windows-Security-Auditing | User modified Windows registry key value | 4657 |\n",
    "\n",
    "#### Logic\n",
    "\n",
    "```{code-block}\n",
    "SELECT EventID, Message\n",
    "FROM dataTable\n",
    "WHERE LOWER(Channel) = 'security'\n",
    "  AND EventID IN (4656,4663,4657)\n",
    "  AND LOWER(ObjectName) RLIKE '.*consentstore\\\\\\\\\\\\\\microphone.*'\n",
    "```\n",
    "\n",
    "#### Pandas Query"
   ]
  },
  {
   "cell_type": "code",
   "execution_count": null,
   "id": "bd87a4c9",
   "metadata": {},
   "outputs": [],
   "source": [
    "(\n",
    "df[['@timestamp','EventID','Message']]\n",
    "\n",
    "[(df['Channel'].str.lower() == 'security')\n",
    "    & (df['EventID'].isin([4656,4663,4657]))\n",
    "    & (df['ObjectName'].str.lower().str.contains('.*consentstore\\\\\\\\microphone.*', regex=True))\n",
    "]\n",
    ".head()\n",
    ")"
   ]
  },
  {
   "cell_type": "markdown",
   "id": "186ab93b",
   "metadata": {},
   "source": [
    "## Known Bypasses\n",
    "\n",
    "## False Positives\n",
    "\n",
    "## Hunter Notes\n",
    "\n",
    "## Hunt Output\n",
    "\n",
    "| Type | Link |\n",
    "| :----| :----|\n",
    "| Sigma Rule | https://github.com/SigmaHQ/sigma/blob/master/rules/windows/registry_event/sysmon_susp_mic_cam_access.yml |\n",
    "| Sigma Rule | https://github.com/SigmaHQ/sigma/blob/master/rules/windows/builtin/security/win_camera_microphone_access.yml |\n",
    "\n",
    "## References\n",
    "* https://medium.com/@7a616368/can-you-track-processes-accessing-the-camera-and-microphone-7e6885b37072"
   ]
  }
 ],
 "metadata": {
  "jupytext": {
   "formats": "md:myst",
   "text_representation": {
    "extension": ".md",
    "format_name": "myst",
    "format_version": "1.3",
    "jupytext_version": "1.14.1"
   }
  },
  "kernelspec": {
   "display_name": "Python 3",
   "language": "python",
   "name": "python3"
  },
  "source_map": [
   13,
   40,
   49,
   53,
   58,
   87,
   97,
   124,
   134
  ]
 },
 "nbformat": 4,
 "nbformat_minor": 5
}