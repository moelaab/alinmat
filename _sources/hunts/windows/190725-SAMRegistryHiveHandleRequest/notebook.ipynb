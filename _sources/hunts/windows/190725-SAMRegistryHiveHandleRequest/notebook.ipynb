{
 "cells": [
  {
   "cell_type": "markdown",
   "id": "9b4212a0",
   "metadata": {},
   "source": [
    "# SAM Registry Hive Handle Request\n",
    "\n",
    "## Hypothesis\n",
    "\n",
    "Adversaries might be getting a handle to the SAM database to extract credentials in my environment\n",
    "\n",
    "## Technical Context\n",
    "\n",
    "Every computer that runs Windows has its own local domain; that is, it has an account database for accounts that are specific to that computer.\n",
    "Conceptually,this is an account database like any other with accounts, groups, SIDs, and so on.\n",
    "These are referred to as local accounts, local groups, and so on.\n",
    "Because computers typically do not trust each other for account information, these identities stay local to the computer on which they were created.\n",
    "\n",
    "## Offensive Tradecraft\n",
    "\n",
    "Adversaries might use tools like Mimikatz with lsadump::sam commands or scripts such as Invoke-PowerDump to get the SysKey to decrypt Security Account Mannager (SAM) database entries (from registry or hive) and get NTLM, and sometimes LM hashes of local accounts passwords.\n",
    "\n",
    "In addition, adversaries can use the built-in Reg.exe utility to dump the SAM hive in order to crack it offline.\n",
    "\n",
    "Additional reading\n",
    "* https://github.com/OTRF/ThreatHunter-Playbook/tree/master/docs/library/windows/security_account_manager_database.md\n",
    "* https://github.com/OTRF/ThreatHunter-Playbook/tree/master/docs/library/windows/syskey.md\n",
    "\n",
    "## Pre-Recorded Security Datasets\n",
    "\n",
    "| Metadata  |    Value  |\n",
    "|:----------|:----------|\n",
    "| docs      | https://securitydatasets.com/notebooks/atomic/windows/credential_access/SDWIN-190625103712.html        |\n",
    "| link      | https://raw.githubusercontent.com/OTRF/Security-Datasets/master/datasets/atomic/windows/credential_access/host/empire_mimikatz_sam_access.zip |\n",
    "\n",
    "### Download Dataset"
   ]
  },
  {
   "cell_type": "code",
   "execution_count": null,
   "id": "0e7ceb1a",
   "metadata": {},
   "outputs": [],
   "source": [
    "import requests\n",
    "from zipfile import ZipFile\n",
    "from io import BytesIO\n",
    "\n",
    "url = 'https://raw.githubusercontent.com/OTRF/Security-Datasets/master/datasets/atomic/windows/credential_access/host/empire_mimikatz_sam_access.zip'\n",
    "zipFileRequest = requests.get(url)\n",
    "zipFile = ZipFile(BytesIO(zipFileRequest.content))\n",
    "datasetJSONPath = zipFile.extract(zipFile.namelist()[0])"
   ]
  },
  {
   "cell_type": "markdown",
   "id": "69032a03",
   "metadata": {},
   "source": [
    "### Read Dataset"
   ]
  },
  {
   "cell_type": "code",
   "execution_count": null,
   "id": "284c691c",
   "metadata": {},
   "outputs": [],
   "source": [
    "import pandas as pd\n",
    "from pandas.io import json\n",
    "\n",
    "df = json.read_json(path_or_buf=datasetJSONPath, lines=True)"
   ]
  },
  {
   "cell_type": "markdown",
   "id": "d6967e84",
   "metadata": {},
   "source": [
    "## Analytics\n",
    "\n",
    "A few initial ideas to explore your data and validate your detection logic:\n",
    "\n",
    "### Analytic I\n",
    "\n",
    "Monitor for any handle requested for the SAM registry hive.\n",
    "\n",
    "| Data source | Event Provider | Relationship | Event |\n",
    "|:------------|:---------------|--------------|-------|\n",
    "| Windows registry | Microsoft-Windows-Security-Auditing | Process requested access Windows registry key | 4656 |\n",
    "| Windows registry | Microsoft-Windows-Security-Auditing | User requested access Windows registry key | 4656 |\n",
    "\n",
    "#### Logic\n",
    "\n",
    "```{code-block}\n",
    "SELECT `@timestamp`, Hostname, SubjectUserName, ProcessName, ObjectName, AccessMask\n",
    "FROM dataTable\n",
    "WHERE LOWER(Channel) = \"security\"\n",
    "    AND EventID = 4656\n",
    "    AND ObjectType = \"Key\"\n",
    "    AND lower(ObjectName) LIKE \"%sam\"\n",
    "```\n",
    "\n",
    "#### Pandas Query"
   ]
  },
  {
   "cell_type": "code",
   "execution_count": null,
   "id": "d390d25e",
   "metadata": {},
   "outputs": [],
   "source": [
    "(\n",
    "df[['@timestamp','Hostname','SubjectUserName','ProcessName','ObjectName','AccessMask']]\n",
    "\n",
    "[(df['Channel'].str.lower() == 'security')\n",
    "    & (df['EventID'] == 4656)\n",
    "    & (df['ObjectType'] == 'Key')\n",
    "    & (df['ObjectName'].str.lower().str.endswith('sam', na=False))\n",
    "]\n",
    ".head()\n",
    ")"
   ]
  },
  {
   "cell_type": "markdown",
   "id": "e4405a9d",
   "metadata": {},
   "source": [
    "## Known Bypasses\n",
    "\n",
    "## False Positives\n",
    "\n",
    "## Hunter Notes\n",
    "\n",
    "## Hunt Output\n",
    "\n",
    "| Type | Link |\n",
    "| :----| :----|\n",
    "| Sigma Rule | https://github.com/SigmaHQ/sigma/blob/master/rules/windows/builtin/security/win_sam_registry_hive_handle_request.yml |\n",
    "| Sigma Rule | https://github.com/SigmaHQ/sigma/blob/master/rules/windows/process_creation/win_grabbing_sensitive_hives_via_reg.yml |\n",
    "\n",
    "## References\n",
    "* http://www.harmj0y.net/blog/activedirectory/remote-hash-extraction-on-demand-via-host-security-descriptor-modification/\n",
    "* https://github.com/gentilkiwi/mimikatz/wiki/module-~-lsadump\n",
    "* https://adsecurity.org/?page_id=1821#LSADUMPSAM"
   ]
  }
 ],
 "metadata": {
  "jupytext": {
   "formats": "md:myst",
   "text_representation": {
    "extension": ".md",
    "format_name": "myst",
    "format_version": "1.3",
    "jupytext_version": "1.14.1"
   }
  },
  "kernelspec": {
   "display_name": "Python 3",
   "language": "python",
   "name": "python3"
  },
  "source_map": [
   13,
   47,
   56,
   60,
   65,
   93,
   104
  ]
 },
 "nbformat": 4,
 "nbformat_minor": 5
}