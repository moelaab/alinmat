{
 "cells": [
  {
   "cell_type": "markdown",
   "id": "028f9687",
   "metadata": {},
   "source": [
    "# Registry Modification to Enable Remote Desktop Conections\n",
    "\n",
    "## Hypothesis\n",
    "\n",
    "Adversaries might be modifying registry key values to enable remote desktop connections in my environment\n",
    "\n",
    "## Technical Context\n",
    "\n",
    "Remote desktop is a common feature in operating systems. It allows a user to log into an interactive session with a system desktop graphical user interface on a remote system.\n",
    "Microsoft refers to its implementation of the Remote Desktop Protocol (RDP) as Remote Desktop Services (RDS).\n",
    "\n",
    "## Offensive Tradecraft\n",
    "\n",
    "Adversaries may connect to a remote system over RDP/RDS to expand access if the service is enabled and allows access to accounts with known credentials.\n",
    "There are several settings that must be configured to enable Remote Desktop connections.\n",
    "First, you must enable Remote Desktop connections by using the fDenyTSConnections setting.\n",
    "Setting fDenyTSConnections=False in the Microsoft-Windows-TerminalServices-LocalSessionManager component (HKLM:\\SYSTEM\\CurrentControlSet\\Control\\Terminal Server) specifies whether Remote Desktop connections are enabled.\n",
    "\n",
    "An adversary can also specify how users are authenticated.\n",
    "Setting UserAuthentication=0 in the Microsoft-Windows-TerminalServices-RDP-WinStationExtensions component (HKLM:\\System\\CurrentControlSet\\Control\\Terminal Server\\WinStations\\RDP-Tcp) helps make sure that users can connect remotely from computers that don't run Remote Desktop by using network-level authentication.\n",
    "This is the equivalent of Allow connections from computers running any version of Remote Desktop (less secure) security setting.\n",
    "\n",
    "## Pre-Recorded Security Datasets\n",
    "\n",
    "| Metadata  |    Value  |\n",
    "|:----------|:----------|\n",
    "| docs      | https://securitydatasets.com/notebooks/atomic/windows/defense_evasion/SDWIN-190518203650.html        |\n",
    "| link      | https://raw.githubusercontent.com/OTRF/Security-Datasets/master/datasets/atomic/windows/defense_evasion/host/empire_enable_rdp.tar.gz  |\n",
    "\n",
    "### Download Dataset"
   ]
  },
  {
   "cell_type": "code",
   "execution_count": null,
   "id": "7c6c4d8d",
   "metadata": {},
   "outputs": [],
   "source": [
    "import requests\n",
    "from zipfile import ZipFile\n",
    "from io import BytesIO\n",
    "\n",
    "url = 'https://raw.githubusercontent.com/OTRF/Security-Datasets/master/datasets/atomic/windows/defense_evasion/host/empire_enable_rdp.tar.gz'\n",
    "zipFileRequest = requests.get(url)\n",
    "zipFile = ZipFile(BytesIO(zipFileRequest.content))\n",
    "datasetJSONPath = zipFile.extract(zipFile.namelist()[0])"
   ]
  },
  {
   "cell_type": "markdown",
   "id": "26654b0e",
   "metadata": {},
   "source": [
    "### Read Dataset"
   ]
  },
  {
   "cell_type": "code",
   "execution_count": null,
   "id": "7f7381cd",
   "metadata": {},
   "outputs": [],
   "source": [
    "import pandas as pd\n",
    "from pandas.io import json\n",
    "\n",
    "df = json.read_json(path_or_buf=datasetJSONPath, lines=True)"
   ]
  },
  {
   "cell_type": "markdown",
   "id": "beb8509c",
   "metadata": {},
   "source": [
    "## Analytics\n",
    "\n",
    "A few initial ideas to explore your data and validate your detection logic:\n",
    "\n",
    "### Analytic I\n",
    "\n",
    "Look for any process updating fDenyTSConnections or UserAuthentication registry key values\n",
    "\n",
    "| Data source | Event Provider | Relationship | Event |\n",
    "|:------------|:---------------|--------------|-------|\n",
    "| Windows registry | Microsoft-Windows-Sysmon/Operational | Process modified Windows registry key value | 13 |\n",
    "\n",
    "#### Logic\n",
    "\n",
    "```{code-block}\n",
    "SELECT `@timestamp`, Hostname, Image, TargetObject\n",
    "FROM dataTable\n",
    "WHERE Channel = \"Microsoft-Windows-Sysmon/Operational\"\n",
    "    AND EventID = 13\n",
    "    AND (TargetObject LIKE \"%fDenyTSConnections\"\n",
    "        OR TargetObject LIKE \"%UserAuthentication\")\n",
    "    AND Details = \"DWORD (0x00000000)\"\n",
    "```\n",
    "\n",
    "#### Pandas Query"
   ]
  },
  {
   "cell_type": "code",
   "execution_count": null,
   "id": "cb82ca14",
   "metadata": {},
   "outputs": [],
   "source": [
    "(\n",
    "df[['@timestamp','Hostname','Image','TargetObject']]\n",
    "\n",
    "[(df['Channel'] == 'Microsoft-Windows-Sysmon/Operational')\n",
    "    & (df['EventID'] == 13)\n",
    "    & (\n",
    "      (df['TargetObject'].str.contains('.*fDenyTSConnections', regex=True))\n",
    "      | (df['TargetObject'].str.contains('.*UserAuthentication', regex=True))\n",
    "    )\n",
    "    & (df['Details'] == 'DWORD (0x00000000)')\n",
    "]\n",
    ".head()\n",
    ")"
   ]
  },
  {
   "cell_type": "markdown",
   "id": "ba9da4ef",
   "metadata": {},
   "source": [
    "## Known Bypasses\n",
    "\n",
    "## False Positives\n",
    "\n",
    "## Hunter Notes\n",
    "\n",
    "* if the activity defined above happens frequently in your environment, you cshould Stack the processeses modifying the registry key values.\n",
    "\n",
    "## Hunt Output\n",
    "\n",
    "| Type | Link |\n",
    "| :----| :----|\n",
    "| Sigma Rule | https://github.com/SigmaHQ/sigma/blob/master/rules/windows/registry_event/sysmon_rdp_registry_modification.yml |\n",
    "\n",
    "## References\n",
    "* https://attack.mitre.org/techniques/T1076/\n",
    "* https://github.com/EmpireProject/Empire/blob/master/lib/modules/powershell/management/enable_rdp.py\n",
    "* https://docs.microsoft.com/en-us/windows-hardware/customize/desktop/unattend/microsoft-windows-terminalservices-localsessionmanager-fdenytsconnections\n",
    "* https://docs.microsoft.com/en-us/windows-hardware/manufacture/desktop/enable-remote-desktop-by-using-an-answer-file"
   ]
  }
 ],
 "metadata": {
  "jupytext": {
   "formats": "md:myst",
   "text_representation": {
    "extension": ".md",
    "format_name": "myst",
    "format_version": "1.3",
    "jupytext_version": "1.14.1"
   }
  },
  "kernelspec": {
   "display_name": "Python 3",
   "language": "python",
   "name": "python3"
  },
  "source_map": [
   13,
   46,
   55,
   59,
   64,
   92,
   106
  ]
 },
 "nbformat": 4,
 "nbformat_minor": 5
}