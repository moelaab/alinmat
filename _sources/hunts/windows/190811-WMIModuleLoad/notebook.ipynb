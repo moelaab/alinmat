{
 "cells": [
  {
   "cell_type": "markdown",
   "id": "d0781f5f",
   "metadata": {},
   "source": [
    "# WMI Module Load\n",
    "\n",
    "## Hypothesis\n",
    "\n",
    "Adversaries might be leveraging WMI modules to execute WMI tasks bypassing controls monitoring for wmiprvse.exe or wmiapsrv.exe activity\n",
    "\n",
    "## Technical Context\n",
    "\n",
    "WMI is the Microsoft implementation of the Web-Based Enterprise Management (WBEM) and Common Information Model (CIM).\n",
    "Both standards aim to provide an industry-agnostic means of collecting and transmitting information related to any managed component in an enterprise. An example of a managed component in WMI would be a running process, registry key, installed service, file information, etc.\n",
    "At a high level, Microsoft's implementation of these standards can be summarized as follows > Managed Components Managed components are represented as WMI objects â€” class instances representing highly structured operating system data. Microsoft provides a wealth of WMI objects that communicate information related to the operating system. E.g. Win32_Process, Win32_Service, AntiVirusProduct, Win32_StartupCommand, etc.\n",
    "WMI modules loaded by legit processes such as wmiprvse.exe or wmiapsrv.exe are the following\n",
    "\n",
    "C:\\Windows\\System32\\wmiclnt.dll\n",
    "C:\\Windows\\System32\\wbem\\WmiApRpl.dll\n",
    "C:\\Windows\\System32\\wbem\\wmiprov.dll\n",
    "C:\\Windows\\System32\\wbem\\wmiutils.dll\n",
    "\n",
    "## Offensive Tradecraft\n",
    "\n",
    "Adversaries could leverage the WMI modules above to execute WMI tasks bypassing controls looking for wmiprvse.exe or wmiapsrv.exe activity.\n",
    "\n",
    "## Pre-Recorded Security Datasets\n",
    "\n",
    "| Metadata  |    Value  |\n",
    "|:----------|:----------|\n",
    "| docs      | https://securitydatasets.com/notebooks/atomic/windows/defense_evasion/SDWIN-190518200432.html        |\n",
    "| link      | https://raw.githubusercontent.com/OTRF/Security-Datasets/master/datasets/atomic/windows/defense_evasion/host/empire_psinject_PEinjection.zip  |\n",
    "\n",
    "### Download Dataset"
   ]
  },
  {
   "cell_type": "code",
   "execution_count": null,
   "id": "c78e1bb9",
   "metadata": {},
   "outputs": [],
   "source": [
    "import requests\n",
    "from zipfile import ZipFile\n",
    "from io import BytesIO\n",
    "\n",
    "url = 'https://raw.githubusercontent.com/OTRF/Security-Datasets/master/datasets/atomic/windows/defense_evasion/host/empire_psinject_PEinjection.zip'\n",
    "zipFileRequest = requests.get(url)\n",
    "zipFile = ZipFile(BytesIO(zipFileRequest.content))\n",
    "datasetJSONPath = zipFile.extract(zipFile.namelist()[0])"
   ]
  },
  {
   "cell_type": "markdown",
   "id": "19dfdd42",
   "metadata": {},
   "source": [
    "### Read Dataset"
   ]
  },
  {
   "cell_type": "code",
   "execution_count": null,
   "id": "5a892d47",
   "metadata": {},
   "outputs": [],
   "source": [
    "import pandas as pd\n",
    "from pandas.io import json\n",
    "\n",
    "df = json.read_json(path_or_buf=datasetJSONPath, lines=True)"
   ]
  },
  {
   "cell_type": "markdown",
   "id": "6139e93e",
   "metadata": {},
   "source": [
    "## Analytics\n",
    "\n",
    "A few initial ideas to explore your data and validate your detection logic:\n",
    "\n",
    "### Analytic I\n",
    "\n",
    "Look for processes (non wmiprvse.exe or WmiApSrv.exe) loading wmi modules.\n",
    "\n",
    "| Data source | Event Provider | Relationship | Event |\n",
    "|:------------|:---------------|--------------|-------|\n",
    "| Module | Microsoft-Windows-Sysmon/Operational | Process loaded Dll | 7 |\n",
    "\n",
    "#### Logic\n",
    "\n",
    "```{code-block}\n",
    "SELECT `@timestamp`, Hostname, Image, ImageLoaded\n",
    "FROM dataTable\n",
    "WHERE Channel = \"Microsoft-Windows-Sysmon/Operational\"\n",
    "    AND EventID = 7\n",
    "    AND (\n",
    "        lower(ImageLoaded) LIKE \"%wmiclnt.dll\"\n",
    "        OR lower(ImageLoaded) LIKE \"%WmiApRpl.dll\"\n",
    "        OR lower(ImageLoaded) LIKE \"%wmiprov.dll\"\n",
    "        OR lower(ImageLoaded) LIKE \"%wmiutils.dll\"\n",
    "        OR lower(ImageLoaded) LIKE \"%wbemcomn.dll\"\n",
    "        OR lower(ImageLoaded) LIKE \"%WMINet_Utils.dll\"\n",
    "        OR lower(ImageLoaded) LIKE \"%wbemsvc.dll\"\n",
    "        OR lower(ImageLoaded) LIKE \"%fastprox.dll\"\n",
    "        OR lower(Description) LIKE \"%wmi%\"\n",
    "    )\n",
    "    AND NOT (\n",
    "        lower(Image) LIKE \"%wmiprvse.exe\"\n",
    "        OR lower(Image) LIKE \"%wmiapsrv.exe\"\n",
    "        OR lower(Image) LIKE \"%svchost.exe\"\n",
    "    )\n",
    "```\n",
    "\n",
    "#### Pandas Query"
   ]
  },
  {
   "cell_type": "code",
   "execution_count": null,
   "id": "f69a9b0f",
   "metadata": {},
   "outputs": [],
   "source": [
    "(\n",
    "df[['@timestamp','Hostname','Image','ImageLoaded']]\n",
    "\n",
    "[(df['Channel'] == 'Microsoft-Windows-Sysmon/Operational')\n",
    "    & (df['EventID'] == 7)\n",
    "    & (\n",
    "      (df['ImageLoaded'].str.lower().str.endswith('wmiclnt.dll', na=False))\n",
    "      | (df['ImageLoaded'].str.lower().str.endswith('wmiaprpl.dll', na=False))\n",
    "      | (df['ImageLoaded'].str.lower().str.endswith('wmiprov.dll', na=False))\n",
    "      | (df['ImageLoaded'].str.lower().str.endswith('wmiutils.dll', na=False))\n",
    "      | (df['ImageLoaded'].str.lower().str.endswith('wbemcomn.dll', na=False))\n",
    "      | (df['ImageLoaded'].str.lower().str.endswith('wminet_utils.dll', na=False))\n",
    "      | (df['ImageLoaded'].str.lower().str.endswith('wbemsvc.dll', na=False))\n",
    "      | (df['ImageLoaded'].str.lower().str.endswith('fastprox.dll', na=False))\n",
    "      | (df['ImageLoaded'].str.lower().str.contains('.*wmi.*', regex=True))\n",
    "    )\n",
    "    & (\n",
    "      (~df['Image'].str.lower().str.endswith('wmiprvse.exe', na=False))\n",
    "      & (~df['Image'].str.lower().str.endswith('wmiapsrv.exe', na=False))\n",
    "      & (~df['Image'].str.lower().str.endswith('svchost.exe', na=False))\n",
    "    )\n",
    "]\n",
    ")"
   ]
  },
  {
   "cell_type": "markdown",
   "id": "47d64f0d",
   "metadata": {},
   "source": [
    "## Known Bypasses\n",
    "\n",
    "## False Positives\n",
    "\n",
    "## Hunter Notes\n",
    "\n",
    "* Stack the processes loading WMI modules and document the activity in your environment.\n",
    "* Stack child processes (if any) of non wmiprvse.exe loading wmi modules\n",
    "\n",
    "## Hunt Output\n",
    "\n",
    "| Type | Link |\n",
    "| :----| :----|\n",
    "| Sigma Rule | https://github.com/SigmaHQ/sigma/blob/master/rules/windows/image_load/sysmon_wmi_module_load.yml |\n",
    "\n",
    "## References\n",
    "* https://posts.specterops.io/threat-hunting-with-jupyter-notebooks-part-4-sql-join-via-apache-sparksql-6630928c931e\n",
    "* https://posts.specterops.io/real-time-sysmon-processing-via-ksql-and-helk-part-3-basic-use-case-8fbf383cb54f"
   ]
  }
 ],
 "metadata": {
  "jupytext": {
   "formats": "md:myst",
   "text_representation": {
    "extension": ".md",
    "format_name": "myst",
    "format_version": "1.3",
    "jupytext_version": "1.14.1"
   }
  },
  "kernelspec": {
   "display_name": "Python 3",
   "language": "python",
   "name": "python3"
  },
  "source_map": [
   13,
   46,
   55,
   59,
   64,
   105,
   129
  ]
 },
 "nbformat": 4,
 "nbformat_minor": 5
}