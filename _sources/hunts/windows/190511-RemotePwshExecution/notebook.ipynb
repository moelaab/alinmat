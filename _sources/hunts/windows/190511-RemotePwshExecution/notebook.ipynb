{
 "cells": [
  {
   "cell_type": "markdown",
   "id": "e51724a0",
   "metadata": {},
   "source": [
    "# PowerShell Remote Session\n",
    "\n",
    "## Hypothesis\n",
    "\n",
    "Adversaries might be leveraging remote powershell sessions to execute code on remote systems throughout my environment\n",
    "\n",
    "## Technical Context\n",
    "\n",
    "## Offensive Tradecraft\n",
    "\n",
    "Adversaries can use PowerShell to perform a number of actions, including discovery of information and execution of code.\n",
    "In addition, it can be used to execute code remotely via Windows Remote Management (WinRM) services.\n",
    "Therefore, it is important to understand the basic artifacts left when PowerShell is used to execute code remotely via a remote powershell session.\n",
    "\n",
    "## Pre-Recorded Security Datasets\n",
    "\n",
    "| Metadata  |    Value  |\n",
    "|:----------|:----------|\n",
    "| docs      | https://securitydatasets.com/notebooks/atomic/windows/execution/SDWIN-190518211456.html        |\n",
    "| link      | https://raw.githubusercontent.com/OTRF/Security-Datasets/master/datasets/atomic/windows/lateral_movement/host/empire_psremoting_stager.zip  |\n",
    "\n",
    "### Download Dataset"
   ]
  },
  {
   "cell_type": "code",
   "execution_count": null,
   "id": "40e36a81",
   "metadata": {},
   "outputs": [],
   "source": [
    "import requests\n",
    "from zipfile import ZipFile\n",
    "from io import BytesIO\n",
    "\n",
    "url = 'https://raw.githubusercontent.com/OTRF/Security-Datasets/master/datasets/atomic/windows/lateral_movement/host/empire_psremoting_stager.zip'\n",
    "zipFileRequest = requests.get(url)\n",
    "zipFile = ZipFile(BytesIO(zipFileRequest.content))\n",
    "datasetJSONPath = zipFile.extract(zipFile.namelist()[0])"
   ]
  },
  {
   "cell_type": "markdown",
   "id": "5dfde196",
   "metadata": {},
   "source": [
    "### Read Dataset"
   ]
  },
  {
   "cell_type": "code",
   "execution_count": null,
   "id": "4a66b8a4",
   "metadata": {},
   "outputs": [],
   "source": [
    "import pandas as pd\n",
    "from pandas.io import json\n",
    "\n",
    "df = json.read_json(path_or_buf=datasetJSONPath, lines=True)"
   ]
  },
  {
   "cell_type": "markdown",
   "id": "dfdc2441",
   "metadata": {},
   "source": [
    "## Analytics\n",
    "\n",
    "A few initial ideas to explore your data and validate your detection logic:\n",
    "\n",
    "### Analytic I\n",
    "\n",
    "Process wsmprovhost hosts the active remote session on the target. Therefore, it is important to monitor for any the initialization of the PowerShell host wsmprovhost.\n",
    "\n",
    "| Data source | Event Provider | Relationship | Event |\n",
    "|:------------|:---------------|--------------|-------|\n",
    "| Powershell | Windows PowerShell | Application host started | 400 |\n",
    "| Powershell | Microsoft-Windows-PowerShell/Operational | User started Application host | 4103 |\n",
    "\n",
    "#### Logic\n",
    "\n",
    "```{code-block}\n",
    "SELECT `@timestamp`, Hostname, Channel\n",
    "FROM dataTable\n",
    "WHERE (Channel = \"Microsoft-Windows-PowerShell/Operational\" OR Channel = \"Windows PowerShell\")\n",
    "    AND (EventID = 400 OR EventID = 4103)\n",
    "    AND Message LIKE \"%HostApplication%wsmprovhost%\"\n",
    "```\n",
    "\n",
    "#### Pandas Query"
   ]
  },
  {
   "cell_type": "code",
   "execution_count": null,
   "id": "44e6c2ac",
   "metadata": {},
   "outputs": [],
   "source": [
    "(\n",
    "df[['@timestamp','Hostname','Channel']]\n",
    "\n",
    "[(df['Channel'].isin(['Microsoft-Windows-PowerShell/Operational','Windows PowerShell']))\n",
    "    & (df['EventID'].isin([400,4103]))\n",
    "    & (df['Message'].str.contains('.*HostApplication.*wsmprovhost.*', regex=True))\n",
    "]\n",
    ".head()\n",
    ")"
   ]
  },
  {
   "cell_type": "markdown",
   "id": "c4733e69",
   "metadata": {},
   "source": [
    "### Analytic II\n",
    "\n",
    "Monitor for any incoming network connection where the destination port is either 5985 or 5986. That will be hosted most likely by the System process.\n",
    "\n",
    "| Data source | Event Provider | Relationship | Event |\n",
    "|:------------|:---------------|--------------|-------|\n",
    "| Process | Microsoft-Windows-Security-Auditing | Process connected to Port | 5156 |\n",
    "\n",
    "#### Logic\n",
    "\n",
    "```{code-block}\n",
    "SELECT `@timestamp`, Hostname, Application, SourceAddress, DestAddress, LayerName, LayerRTID\n",
    "FROM dataTable\n",
    "WHERE LOWER(Channel) = \"security\"\n",
    "    AND EventID = 5156\n",
    "    AND (DestPort = 5985 OR DestPort = 5986)\n",
    "    AND LayerRTID = 44\n",
    "```\n",
    "\n",
    "#### Pandas Query"
   ]
  },
  {
   "cell_type": "code",
   "execution_count": null,
   "id": "29ede0b9",
   "metadata": {},
   "outputs": [],
   "source": [
    "(\n",
    "df[['@timestamp','Hostname','Application','SourceAddress','DestAddress','LayerName','LayerRTID']]\n",
    "\n",
    "[(df['Channel'].str.lower() == 'security')\n",
    "    & (df['EventID'] == 5156)\n",
    "    & (\n",
    "        (df['DestPort'] == 5985)\n",
    "        | (df['DestPort'] == 5986)\n",
    "    )\n",
    "    & (df['LayerRTID'] == 44)\n",
    "]\n",
    ".head()\n",
    ")"
   ]
  },
  {
   "cell_type": "markdown",
   "id": "ad7a32fa",
   "metadata": {},
   "source": [
    "### Analytic III\n",
    "\n",
    "Process wsmprovhost hosts the active remote session on the target. Therefore, from a process creation perspective, it is to document any instances of wsmprovhost being spawned and spawning other processes.\n",
    "\n",
    "| Data source | Event Provider | Relationship | Event |\n",
    "|:------------|:---------------|--------------|-------|\n",
    "| Process | Microsoft-Windows-Security-Auditing | Process created Process | 4688 |\n",
    "\n",
    "#### Logic\n",
    "\n",
    "```{code-block}\n",
    "SELECT `@timestamp`, Hostname, ParentProcessName, NewProcessName\n",
    "FROM dataTable\n",
    "WHERE LOWER(Channel) = \"security\"\n",
    "    AND EventID = 4688\n",
    "    AND (ParentProcessName LIKE \"%wsmprovhost.exe\" OR NewProcessName LIKE \"%wsmprovhost.exe\")\n",
    "```\n",
    "\n",
    "#### Pandas Query"
   ]
  },
  {
   "cell_type": "code",
   "execution_count": null,
   "id": "c02a5b1f",
   "metadata": {},
   "outputs": [],
   "source": [
    "(\n",
    "df[['@timestamp','Hostname','ParentProcessName','NewProcessName']]\n",
    "\n",
    "[(df['Channel'].str.lower() == 'security')\n",
    "    & (df['EventID'] == 4688)\n",
    "    & (\n",
    "        (df['ParentProcessName'].str.lower().str.endswith('wsmprovhost.exe', na=False))\n",
    "        | (df['NewProcessName'].str.lower().str.endswith('wsmprovhost.exe', na=False))\n",
    "    )\n",
    "]\n",
    ".head()\n",
    ")"
   ]
  },
  {
   "cell_type": "markdown",
   "id": "dd4f153b",
   "metadata": {},
   "source": [
    "### Analytic IV\n",
    "\n",
    "Process wsmprovhost hosts the active remote session on the target. Therefore, from a process creation perspective, it is to document any instances of wsmprovhost being spawned and spawning other processes.\n",
    "\n",
    "| Data source | Event Provider | Relationship | Event |\n",
    "|:------------|:---------------|--------------|-------|\n",
    "| Process | Microsoft-Windows-Sysmon/Operational | Process created Process | 1 |\n",
    "\n",
    "#### Logic\n",
    "\n",
    "```{code-block}\n",
    "SELECT `@timestamp`, Hostname, ParentImage, Image\n",
    "FROM dataTable\n",
    "WHERE Channel = \"Microsoft-Windows-Sysmon/Operational\"\n",
    "    AND EventID = 1\n",
    "    AND (ParentImage LIKE \"%wsmprovhost.exe\" OR Image LIKE \"%wsmprovhost.exe\")\n",
    "```\n",
    "\n",
    "#### Pandas Query"
   ]
  },
  {
   "cell_type": "code",
   "execution_count": null,
   "id": "9b35de83",
   "metadata": {},
   "outputs": [],
   "source": [
    "(\n",
    "df[['@timestamp','Hostname','ParentImage','Image']]\n",
    "\n",
    "[(df['Channel'] == 'Microsoft-Windows-Sysmon/Operational')\n",
    "    & (df['EventID'] == 1)\n",
    "    & (\n",
    "        (df['ParentImage'].str.lower().str.endswith('wsmprovhost.exe', na=False))\n",
    "        | (df['Image'].str.lower().str.endswith('wsmprovhost.exe', na=False))\n",
    "    )\n",
    "]\n",
    ".head()\n",
    ")"
   ]
  },
  {
   "cell_type": "markdown",
   "id": "eb63fd06",
   "metadata": {},
   "source": [
    "### Analytic V\n",
    "\n",
    "Monitor for outbound network connection where the destination port is either 5985 or 5986 and the use is not NT AUTHORITY\\NETWORK SERVICE or NT AUTHORITY\\SYSTEM.\n",
    "\n",
    "| Data source | Event Provider | Relationship | Event |\n",
    "|:------------|:---------------|--------------|-------|\n",
    "| Process | Microsoft-Windows-Sysmon/Operational | User connected to Port | 3 |\n",
    "\n",
    "#### Logic\n",
    "\n",
    "```{code-block}\n",
    "SELECT `@timestamp`, Hostname, User, Initiated, Image, SourceIp, DestinationIp\n",
    "FROM dataTable\n",
    "WHERE Channel = \"Microsoft-Windows-Sysmon/Operational\"\n",
    "    AND EventID = 3\n",
    "    AND (DestinationPort = 5985 OR DestinationPort = 5986)\n",
    "    AND NOT User = \"NT AUTHORITY\\\\\\\\NETWORK SERVICE\"\n",
    "```\n",
    "\n",
    "#### Pandas Query"
   ]
  },
  {
   "cell_type": "code",
   "execution_count": null,
   "id": "dbfdf669",
   "metadata": {},
   "outputs": [],
   "source": [
    "(\n",
    "df[['@timestamp','Hostname','User','Initiated','Image','SourceIp','DestinationIp']]\n",
    "\n",
    "[(df['Channel'] == 'Microsoft-Windows-Sysmon/Operational')\n",
    "    & (df['EventID'] == 3)\n",
    "    & (\n",
    "        (df['DestinationPort'] == 5985)\n",
    "        | (df['DestinationPort'] == 5986)\n",
    "    )\n",
    "    & (~df['User'].isin(['NT AUTHORITY\\\\NETWORK SERVICE', 'NT AUTHORITY\\\\SYSTEM']))\n",
    "]\n",
    ")"
   ]
  },
  {
   "cell_type": "markdown",
   "id": "761acfb3",
   "metadata": {},
   "source": [
    "## Known Bypasses\n",
    "\n",
    "## False Positives\n",
    "\n",
    "\n",
    "\n",
    "## Hunter Notes\n",
    "\n",
    "* Explore the data produced in your lab environment with the analytics above and document what normal looks like from a PowerShell perspective. Then, take your findings and explore your production environment.\n",
    "* If powershell activity locally or remotely via winrm happens all the time in your environment, I suggest to categorize the data you collect by business unit or department to document profiles.\n",
    "* Layer 44 translatest to layer filter FWPM_LAYER_ALE_AUTH_RECV_ACCEPT_V4 / FWPM_LAYER_ALE_AUTH_RECV_ACCEPT_V6. This filtering layer allows for authorizing accept requests for incoming TCP connections, as well as authorizing incoming non-TCP traffic based on the first packet received. Looking for destination ports related to remote PowerShell Sessions and Layer 44 is very helpful.\n",
    "\n",
    "## Hunt Output\n",
    "\n",
    "| Type | Link |\n",
    "| :----| :----|\n",
    "| Sigma Rule | https://github.com/SigmaHQ/sigma/blob/master/rules/windows/powershell/powershell_module/posh_pm_remote_powershell_session.yml |\n",
    "| Sigma Rule | https://github.com/SigmaHQ/sigma/blob/master/rules/windows/powershell/powershell_classic/posh_pc_remote_powershell_session.yml |\n",
    "| Sigma Rule | https://github.com/SigmaHQ/sigma/blob/master/rules/windows/network_connection/sysmon_remote_powershell_session_network.yml |\n",
    "| Sigma Rule | https://github.com/SigmaHQ/sigma/blob/master/rules/windows/process_creation/win_remote_powershell_session_process.yml |\n",
    "| Sigma Rule | https://github.com/SigmaHQ/sigma/blob/master/rules/windows/builtin/security/win_remote_powershell_session.yml |\n",
    "\n",
    "## References\n",
    "* https://docs.microsoft.com/en-us/powershell/scripting/learn/remoting/running-remote-commands?view=powershell-6#windows-powershell-remoting\n",
    "* https://docs.microsoft.com/en-us/powershell/module/microsoft.powershell.core/about/about_remote_requirements?view=powershell-6\n",
    "* https://docs.microsoft.com/en-us/windows/win32/fwp/management-filtering-layer-identifiers-"
   ]
  }
 ],
 "metadata": {
  "jupytext": {
   "formats": "md:myst",
   "text_representation": {
    "extension": ".md",
    "format_name": "myst",
    "format_version": "1.3",
    "jupytext_version": "1.14.1"
   }
  },
  "kernelspec": {
   "display_name": "Python 3",
   "language": "python",
   "name": "python3"
  },
  "source_map": [
   13,
   38,
   47,
   51,
   56,
   83,
   93,
   116,
   130,
   152,
   165,
   187,
   200,
   223,
   236
  ]
 },
 "nbformat": 4,
 "nbformat_minor": 5
}