{
 "cells": [
  {
   "cell_type": "markdown",
   "id": "0f68a1f3",
   "metadata": {},
   "source": [
    "# Local Service Installation\n",
    "\n",
    "## Hypothesis\n",
    "\n",
    "Adversaries might be creating new services to execute code on a compromised endpoint in my environment\n",
    "\n",
    "## Technical Context\n",
    "\n",
    "\n",
    "\n",
    "## Offensive Tradecraft\n",
    "\n",
    "Adversaries may execute a binary, command, or script via a method that interacts with Windows services, such as the Service Control Manager.\n",
    "This can be done by by adversaries creating a new service.\n",
    "\n",
    "## Pre-Recorded Security Datasets\n",
    "\n",
    "| Metadata  |    Value  |\n",
    "|:----------|:----------|\n",
    "| docs      | https://securitydatasets.com/notebooks/atomic/windows/lateral_movement/SDWIN-190518210652.html        |\n",
    "| link      | https://raw.githubusercontent.com/OTRF/Security-Datasets/master/datasets/atomic/windows/lateral_movement/host/empire_psexec_dcerpc_tcp_svcctl.zip |\n",
    "\n",
    "### Download Dataset"
   ]
  },
  {
   "cell_type": "code",
   "execution_count": null,
   "id": "7f088f1e",
   "metadata": {},
   "outputs": [],
   "source": [
    "import requests\n",
    "from zipfile import ZipFile\n",
    "from io import BytesIO\n",
    "\n",
    "url = 'https://raw.githubusercontent.com/OTRF/Security-Datasets/master/datasets/atomic/windows/lateral_movement/host/empire_psexec_dcerpc_tcp_svcctl.zip'\n",
    "zipFileRequest = requests.get(url)\n",
    "zipFile = ZipFile(BytesIO(zipFileRequest.content))\n",
    "datasetJSONPath = zipFile.extract(zipFile.namelist()[0])"
   ]
  },
  {
   "cell_type": "markdown",
   "id": "ac15901e",
   "metadata": {},
   "source": [
    "### Read Dataset"
   ]
  },
  {
   "cell_type": "code",
   "execution_count": null,
   "id": "0d9c4212",
   "metadata": {},
   "outputs": [],
   "source": [
    "import pandas as pd\n",
    "from pandas.io import json\n",
    "\n",
    "df = json.read_json(path_or_buf=datasetJSONPath, lines=True)"
   ]
  },
  {
   "cell_type": "markdown",
   "id": "0221500f",
   "metadata": {},
   "source": [
    "## Analytics\n",
    "\n",
    "A few initial ideas to explore your data and validate your detection logic:\n",
    "\n",
    "### Analytic I\n",
    "\n",
    "Look for new services being created in your environment and stack the values of it\n",
    "\n",
    "| Data source | Event Provider | Relationship | Event |\n",
    "|:------------|:---------------|--------------|-------|\n",
    "| Service | Microsoft-Windows-Security-Auditing | User created Service | 4697 |\n",
    "\n",
    "#### Logic\n",
    "\n",
    "```{code-block}\n",
    "SELECT `@timestamp`, Hostname, SubjectUserName, ServiceName, ServiceType, ServiceStartType, ServiceAccount\n",
    "FROM dataTable\n",
    "WHERE LOWER(Channel) = \"security\" AND EventID = 4697\n",
    "```\n",
    "\n",
    "#### Pandas Query"
   ]
  },
  {
   "cell_type": "code",
   "execution_count": null,
   "id": "e8239328",
   "metadata": {},
   "outputs": [],
   "source": [
    "(\n",
    "df[['@timestamp','Hostname','SubjectUserName','ServiceName','ServiceType','ServiceStartType','ServiceAccount']]\n",
    "\n",
    "[(df['Channel'].str.lower() == 'security')\n",
    "    & (df['EventID'] == 4697)\n",
    "]\n",
    ")"
   ]
  },
  {
   "cell_type": "markdown",
   "id": "f9ada95c",
   "metadata": {},
   "source": [
    "## Known Bypasses\n",
    "\n",
    "## False Positives\n",
    "\n",
    "## Hunter Notes\n",
    "\n",
    "* If there are a lot of unique services being created in your environment, try to categorize the data based on the bussiness unit.\n",
    "* Identify the source of unique services being created everyday. I have seen Microsoft applications doing this.\n",
    "* Stack the values of the service file name associated with the new service.\n",
    "* Document what users create new services across your environment on a daily basis\n",
    "\n",
    "## References\n",
    "* https://www.powershellempire.com/?page_id=523"
   ]
  }
 ],
 "metadata": {
  "jupytext": {
   "formats": "md:myst",
   "text_representation": {
    "extension": ".md",
    "format_name": "myst",
    "format_version": "1.3",
    "jupytext_version": "1.14.1"
   }
  },
  "kernelspec": {
   "display_name": "Python 3",
   "language": "python",
   "name": "python3"
  },
  "source_map": [
   13,
   39,
   48,
   52,
   57,
   81,
   89
  ]
 },
 "nbformat": 4,
 "nbformat_minor": 5
}