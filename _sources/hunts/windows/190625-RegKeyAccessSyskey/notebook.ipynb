{
 "cells": [
  {
   "cell_type": "markdown",
   "id": "8a9d33d4",
   "metadata": {},
   "source": [
    "# SysKey Registry Keys Access\n",
    "\n",
    "## Hypothesis\n",
    "\n",
    "Adversaries might be calculating the SysKey from registry key values to decrypt SAM entries.\n",
    "\n",
    "## Technical Context\n",
    "\n",
    "Every computer that runs Windows has its own local domain; that is, it has an account database for accounts that are specific to that computer.\n",
    "Conceptually,this is an account database like any other with accounts, groups, SIDs, and so on. These are referred to as local accounts, local groups, and so on.\n",
    "Because computers typically do not trust each other for account information, these identities stay local to the computer on which they were created.\n",
    "\n",
    "## Offensive Tradecraft\n",
    "\n",
    "Adversaries might use tools like Mimikatz with lsadump::sam commands or scripts such as Invoke-PowerDump to get the SysKey to decrypt Security Account Mannager (SAM) database entries (from registry or hive) and get NTLM, and sometimes LM hashes of local accounts passwords.\n",
    "Adversaries can calculate the Syskey by using RegOpenKeyEx/RegQueryInfoKey API calls to query the appropriate class info and values from the HKLM:\\SYSTEM\\CurrentControlSet\\Control\\Lsa\\JD, HKLM:\\SYSTEM\\CurrentControlSet\\Control\\Lsa\\Skew1, HKLM:\\SYSTEM\\CurrentControlSet\\Control\\Lsa\\GBG, and HKLM:\\SYSTEM\\CurrentControlSet\\Control\\Lsa\\Data keys.\n",
    "\n",
    "Additional reading\n",
    "* https://github.com/OTRF/ThreatHunter-Playbook/tree/master/docs/library/windows/security_account_manager_database.md\n",
    "* https://github.com/OTRF/ThreatHunter-Playbook/tree/master/docs/library/windows/syskey.md\n",
    "\n",
    "## Pre-Recorded Security Datasets\n",
    "\n",
    "| Metadata  |    Value  |\n",
    "|:----------|:----------|\n",
    "| docs      | https://securitydatasets.com/notebooks/atomic/windows/credential_access/SDWIN-190625103712.html        |\n",
    "| link      | https://raw.githubusercontent.com/OTRF/Security-Datasets/master/datasets/atomic/windows/credential_access/host/empire_mimikatz_sam_access.zip  |\n",
    "\n",
    "### Download Dataset"
   ]
  },
  {
   "cell_type": "code",
   "execution_count": null,
   "id": "3b9657c8",
   "metadata": {},
   "outputs": [],
   "source": [
    "import requests\n",
    "from zipfile import ZipFile\n",
    "from io import BytesIO\n",
    "\n",
    "url = 'https://raw.githubusercontent.com/OTRF/Security-Datasets/master/datasets/atomic/windows/credential_access/host/empire_mimikatz_sam_access.zip'\n",
    "zipFileRequest = requests.get(url)\n",
    "zipFile = ZipFile(BytesIO(zipFileRequest.content))\n",
    "datasetJSONPath = zipFile.extract(zipFile.namelist()[0])"
   ]
  },
  {
   "cell_type": "markdown",
   "id": "46d862f4",
   "metadata": {},
   "source": [
    "### Read Dataset"
   ]
  },
  {
   "cell_type": "code",
   "execution_count": null,
   "id": "d0d93580",
   "metadata": {},
   "outputs": [],
   "source": [
    "import pandas as pd\n",
    "from pandas.io import json\n",
    "\n",
    "df = json.read_json(path_or_buf=datasetJSONPath, lines=True)"
   ]
  },
  {
   "cell_type": "markdown",
   "id": "e72e2466",
   "metadata": {},
   "source": [
    "## Analytics\n",
    "\n",
    "A few initial ideas to explore your data and validate your detection logic:\n",
    "\n",
    "### Analytic I\n",
    "\n",
    "Look for handle requests and access operations to specific registry keys used to calculate the SysKey. SACLs are needed for them.\n",
    "\n",
    "| Data source | Event Provider | Relationship | Event |\n",
    "|:------------|:---------------|--------------|-------|\n",
    "| Windows registry | Microsoft-Windows-Security-Auditing | Process accessed Windows registry key | 4663 |\n",
    "| Windows registry | Microsoft-Windows-Security-Auditing | Process requested access Windows registry key | 4656 |\n",
    "\n",
    "#### Logic\n",
    "\n",
    "```{code-block}\n",
    "SELECT `@timestamp`, ProcessName, ObjectName, AccessMask, EventID\n",
    "FROM dataTable\n",
    "WHERE LOWER(Channel) = \"security\"\n",
    "    AND (EventID = 4656 OR EventID = 4663)\n",
    "    AND ObjectType = \"Key\"\n",
    "    AND (\n",
    "        lower(ObjectName) LIKE \"%jd\"\n",
    "        OR lower(ObjectName) LIKE \"%gbg\"\n",
    "        OR lower(ObjectName) LIKE \"%data\"\n",
    "        OR lower(ObjectName) LIKE \"%skew1\"\n",
    "    )\n",
    "```\n",
    "\n",
    "#### Pandas Query"
   ]
  },
  {
   "cell_type": "code",
   "execution_count": null,
   "id": "e84e4d04",
   "metadata": {},
   "outputs": [],
   "source": [
    "(\n",
    "df[['@timestamp','Hostname','ProcessName','ObjectName','AccessMask','EventID']]\n",
    "\n",
    "[(df['Channel'].str.lower() == 'security')\n",
    "    & ((df['EventID'] == 4656)|(df['EventID'] == 4663))\n",
    "    & (df['ObjectType'] == 'Key')\n",
    "    & (\n",
    "      (df['ObjectName'].str.lower().str.endswith('jd', na=False))\n",
    "      | (df['ObjectName'].str.lower().str.endswith('gbg', na=False))\n",
    "      | (df['ObjectName'].str.lower().str.endswith('data', na=False))\n",
    "      | (df['ObjectName'].str.lower().str.endswith('skew1', na=False))\n",
    "    )\n",
    "]\n",
    ")"
   ]
  },
  {
   "cell_type": "markdown",
   "id": "d82a488d",
   "metadata": {},
   "source": [
    "## Known Bypasses\n",
    "\n",
    "| Idea | Playbook |\n",
    "|:-----|:---------|\n",
    "| Apparently the registry keys needed to calculate the SysKey are accessed by processes such as smss.exe, winlogon.exe and syskey.exe, but when the system boots. An adversary can migrate to those processes to blend in. |  |\n",
    "\n",
    "## False Positives\n",
    "\n",
    "## Hunter Notes\n",
    "\n",
    "* An audit rule needs to be added to the SACL of the following keys to monitor for ReadKey rights\n",
    "  * HKLM:\\SYSTEM\\CurrentControlSet\\Control\\Lsa\\JD\n",
    "  * HKLM:\\SYSTEM\\CurrentControlSet\\Control\\Lsa\\Skew1\n",
    "  * HKLM:\\SYSTEM\\CurrentControlSet\\Control\\Lsa\\GBG\n",
    "  * HKLM:\\SYSTEM\\CurrentControlSet\\Control\\Lsa\\Data\n",
    "* Defenders can correlate known processes accessing those registry keys with events that tell you when the system boots up.\n",
    "* Look for the same process accessing all those registry keys in a short period of time.\n",
    "\n",
    "## Hunt Output\n",
    "\n",
    "| Type | Link |\n",
    "| :----| :----|\n",
    "| Sigma Rule | https://github.com/SigmaHQ/sigma/blob/master/rules/windows/builtin/security/win_syskey_registry_access.yml |\n",
    "\n",
    "## References\n",
    "* https://github.com/gentilkiwi/mimikatz/wiki/module-~-lsadump\n",
    "* https://adsecurity.org/?page_id=1821#LSADUMPSAM\n",
    "* http://www.harmj0y.net/blog/activedirectory/remote-hash-extraction-on-demand-via-host-security-descriptor-modification/\n",
    "* https://docs.microsoft.com/en-us/dotnet/api/system.security.accesscontrol.registryrights?view=netframework-4.8\n",
    "* https://docs.microsoft.com/en-us/windows/desktop/sysinfo/registry-key-security-and-access-rights"
   ]
  }
 ],
 "metadata": {
  "jupytext": {
   "formats": "md:myst",
   "text_representation": {
    "extension": ".md",
    "format_name": "myst",
    "format_version": "1.3",
    "jupytext_version": "1.14.1"
   }
  },
  "kernelspec": {
   "display_name": "Python 3",
   "language": "python",
   "name": "python3"
  },
  "source_map": [
   13,
   45,
   54,
   58,
   63,
   96,
   111
  ]
 },
 "nbformat": 4,
 "nbformat_minor": 5
}