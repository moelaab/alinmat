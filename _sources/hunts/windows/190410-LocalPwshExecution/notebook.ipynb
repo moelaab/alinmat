{
 "cells": [
  {
   "cell_type": "markdown",
   "id": "c1d43026",
   "metadata": {},
   "source": [
    "# Local PowerShell Execution\n",
    "\n",
    "## Hypothesis\n",
    "\n",
    "Adversaries might be leveraging PowerShell to execute code within my environment\n",
    "\n",
    "## Technical Context\n",
    "\n",
    "## Offensive Tradecraft\n",
    "\n",
    "Adversaries can use PowerShell to perform a number of actions, including discovery of information and execution of code.\n",
    "Therefore, it is important to understand the basic artifacts left when PowerShell is used in your environment.\n",
    "\n",
    "## Pre-Recorded Security Datasets\n",
    "\n",
    "| Metadata  |    Value  |\n",
    "|:----------|:----------|\n",
    "| docs      | https://securitydatasets.com/notebooks/atomic/windows/execution/SDWIN-190518182022.html        |\n",
    "| link      | https://raw.githubusercontent.com/OTRF/Security-Datasets/master/datasets/atomic/windows/execution/host/empire_launcher_vbs.zip  |\n",
    "\n",
    "### Download Dataset"
   ]
  },
  {
   "cell_type": "code",
   "execution_count": null,
   "id": "a626eb90",
   "metadata": {},
   "outputs": [],
   "source": [
    "import requests\n",
    "from zipfile import ZipFile\n",
    "from io import BytesIO\n",
    "\n",
    "url = 'https://raw.githubusercontent.com/OTRF/Security-Datasets/master/datasets/atomic/windows/execution/host/empire_launcher_vbs.zip'\n",
    "zipFileRequest = requests.get(url)\n",
    "zipFile = ZipFile(BytesIO(zipFileRequest.content))\n",
    "datasetJSONPath = zipFile.extract(zipFile.namelist()[0])"
   ]
  },
  {
   "cell_type": "markdown",
   "id": "58bf44a2",
   "metadata": {},
   "source": [
    "### Read Dataset"
   ]
  },
  {
   "cell_type": "code",
   "execution_count": null,
   "id": "65ebc339",
   "metadata": {},
   "outputs": [],
   "source": [
    "import pandas as pd\n",
    "from pandas.io import json\n",
    "\n",
    "df = json.read_json(path_or_buf=datasetJSONPath, lines=True)"
   ]
  },
  {
   "cell_type": "markdown",
   "id": "649422b4",
   "metadata": {},
   "source": [
    "## Analytics\n",
    "\n",
    "A few initial ideas to explore your data and validate your detection logic:\n",
    "\n",
    "### Analytic I\n",
    "\n",
    "Within the classic PowerShell log, event ID 400 indicates when a new PowerShell host process has started. You can filter on powershell.exe as a host application if you want to or leave it without a filter to capture every single PowerShell host.\n",
    "\n",
    "| Data source | Event Provider | Relationship | Event |\n",
    "|:------------|:---------------|--------------|-------|\n",
    "| Powershell | Windows PowerShell | Application host started | 400 |\n",
    "| Powershell | Microsoft-Windows-PowerShell/Operational | User started Application host | 4103 |\n",
    "\n",
    "#### Logic\n",
    "\n",
    "```{code-block}\n",
    "SELECT `@timestamp`, Hostname\n",
    "FROM dataTable\n",
    "WHERE (Channel = \"Microsoft-Windows-PowerShell/Operational\" OR Channel = \"Windows PowerShell\")\n",
    "    AND (EventID = 400 OR EventID = 4103)\n",
    "```\n",
    "\n",
    "#### Pandas Query"
   ]
  },
  {
   "cell_type": "code",
   "execution_count": null,
   "id": "82dd26b8",
   "metadata": {},
   "outputs": [],
   "source": [
    "(\n",
    "df[['@timestamp','Hostname']]\n",
    "\n",
    "[((df['Channel'] == 'Windows PowerShell') | (df['Channel'] == 'Microsoft-Windows-PowerShell/Operational'))\n",
    "    & (\n",
    "      (df['EventID'] == 400)\n",
    "      | (df['EventID'] == 4103)\n",
    "    )\n",
    "]\n",
    ".head()\n",
    ")"
   ]
  },
  {
   "cell_type": "markdown",
   "id": "c175b309",
   "metadata": {},
   "source": [
    "### Analytic II\n",
    "\n",
    "Look for non-interactive powershell session might be a sign of PowerShell being executed by another application in the background.\n",
    "\n",
    "| Data source | Event Provider | Relationship | Event |\n",
    "|:------------|:---------------|--------------|-------|\n",
    "| Process | Microsoft-Windows-Security-Auditing | Process created Process | 4688 |\n",
    "\n",
    "#### Logic\n",
    "\n",
    "```{code-block}\n",
    "SELECT `@timestamp`, Hostname, NewProcessName, ParentProcessName\n",
    "FROM dataTable\n",
    "WHERE LOWER(Channel) = \"security\"\n",
    "    AND EventID = 4688\n",
    "    AND NewProcessName LIKE \"%powershell.exe\"\n",
    "    AND NOT ParentProcessName LIKE \"%explorer.exe\"\n",
    "```\n",
    "\n",
    "#### Pandas Query"
   ]
  },
  {
   "cell_type": "code",
   "execution_count": null,
   "id": "46b2297c",
   "metadata": {},
   "outputs": [],
   "source": [
    "(\n",
    "df[['@timestamp','Hostname','NewProcessName','ParentProcessName']]\n",
    "\n",
    "[(df['Channel'].str.lower() == 'security')\n",
    "    & (df['EventID'] == 4688)\n",
    "    & (df['NewProcessName'].str.lower().str.endswith('powershell.exe', na=False))\n",
    "    & (~df['ParentProcessName'].str.lower().str.endswith('explorer.exe', na=False))\n",
    "]\n",
    ".head()\n",
    ")"
   ]
  },
  {
   "cell_type": "markdown",
   "id": "d9c27ecf",
   "metadata": {},
   "source": [
    "### Analytic III\n",
    "\n",
    "Look for non-interactive powershell session might be a sign of PowerShell being executed by another application in the background.\n",
    "\n",
    "| Data source | Event Provider | Relationship | Event |\n",
    "|:------------|:---------------|--------------|-------|\n",
    "| Process | Microsoft-Windows-Sysmon/Operational | Process created Process | 1 |\n",
    "\n",
    "#### Logic\n",
    "\n",
    "```{code-block}\n",
    "SELECT `@timestamp`, Hostname, Image, ParentImage\n",
    "FROM dataTable\n",
    "WHERE Channel = \"Microsoft-Windows-Sysmon/Operational\"\n",
    "    AND EventID = 1\n",
    "    AND Image LIKE \"%powershell.exe\"\n",
    "    AND NOT ParentImage LIKE \"%explorer.exe\"\n",
    "```\n",
    "\n",
    "#### Pandas Query"
   ]
  },
  {
   "cell_type": "code",
   "execution_count": null,
   "id": "8722dfca",
   "metadata": {},
   "outputs": [],
   "source": [
    "(\n",
    "df[['@timestamp','Hostname','Image','ParentImage']]\n",
    "\n",
    "[(df['Channel'] == 'Microsoft-Windows-Sysmon/Operational')\n",
    "    & (df['EventID'] == 1)\n",
    "    & (df['Image'].str.lower().str.endswith('powershell.exe', na=False))\n",
    "    & (~df['ParentImage'].str.lower().str.endswith('explorer.exe', na=False))\n",
    "]\n",
    ".head()\n",
    ")"
   ]
  },
  {
   "cell_type": "markdown",
   "id": "942db397",
   "metadata": {},
   "source": [
    "### Analytic IV\n",
    "\n",
    "Monitor for processes loading PowerShell DLL `*system.management.automation*`.\n",
    "\n",
    "| Data source | Event Provider | Relationship | Event |\n",
    "|:------------|:---------------|--------------|-------|\n",
    "| Module | Microsoft-Windows-Sysmon/Operational | Process loaded Dll | 7 |\n",
    "\n",
    "#### Logic\n",
    "\n",
    "```{code-block}\n",
    "SELECT `@timestamp`, Hostname, Image, ImageLoaded\n",
    "FROM dataTable\n",
    "WHERE Channel = \"Microsoft-Windows-Sysmon/Operational\"\n",
    "    AND EventID = 7\n",
    "    AND (lower(Description) = \"system.management.automation\" OR lower(ImageLoaded) LIKE \"%system.management.automation%\")\n",
    "```\n",
    "\n",
    "#### Pandas Query"
   ]
  },
  {
   "cell_type": "code",
   "execution_count": null,
   "id": "7e7319d9",
   "metadata": {},
   "outputs": [],
   "source": [
    "(\n",
    "df[['@timestamp','Hostname','Image','ImageLoaded']]\n",
    "\n",
    "[(df['Channel'] == 'Microsoft-Windows-Sysmon/Operational')\n",
    "    & (df['EventID'] == 7)\n",
    "    & (\n",
    "        (df['Description'].str.lower() == 'system.management.automation')\n",
    "        | (df['ImageLoaded'].str.lower().str.contains('.*system.management.automation.*', regex=True))\n",
    "    )\n",
    "]\n",
    ".head()\n",
    ")"
   ]
  },
  {
   "cell_type": "markdown",
   "id": "1d673d51",
   "metadata": {},
   "source": [
    "### Analytic V\n",
    "\n",
    "Monitoring for PSHost* pipes is another interesting way to find PowerShell execution.\n",
    "\n",
    "| Data source | Event Provider | Relationship | Event |\n",
    "|:------------|:---------------|--------------|-------|\n",
    "| Named Pipe | Microsoft-Windows-Sysmon/Operational | Process created Pipe | 17 |\n",
    "\n",
    "#### Logic\n",
    "\n",
    "```{code-block}\n",
    "SELECT `@timestamp`, Hostname, Image, PipeName\n",
    "FROM dataTable\n",
    "WHERE Channel = \"Microsoft-Windows-Sysmon/Operational\"\n",
    "    AND EventID = 17\n",
    "    AND lower(PipeName) LIKE \"\\\\\\\\pshost%\"\n",
    "```\n",
    "\n",
    "#### Pandas Query"
   ]
  },
  {
   "cell_type": "code",
   "execution_count": null,
   "id": "ec44f503",
   "metadata": {},
   "outputs": [],
   "source": [
    "(\n",
    "df[['@timestamp','Hostname','Image','PipeName']]\n",
    "\n",
    "[(df['Channel'] == 'Microsoft-Windows-Sysmon/Operational')\n",
    "    & (df['EventID'] == 17)\n",
    "    & (df['PipeName'].str.lower().str.startswith('\\pshost', na=False))\n",
    "]\n",
    ".head()\n",
    ")"
   ]
  },
  {
   "cell_type": "markdown",
   "id": "dfcdf00b",
   "metadata": {},
   "source": [
    "### Analytic VI\n",
    "\n",
    "The `PowerShell Named Pipe IPC` event will indicate the name of the PowerShell AppDomain that started. Sign of PowerShell execution.\n",
    "\n",
    "| Data source | Event Provider | Relationship | Event |\n",
    "|:------------|:---------------|--------------|-------|\n",
    "| Powershell | Microsoft-Windows-PowerShell/Operational | Application domain started | 53504 |\n",
    "\n",
    "#### Logic\n",
    "\n",
    "```{code-block}\n",
    "SELECT `@timestamp`, Hostname, Message\n",
    "FROM dataTable\n",
    "WHERE Channel = \"Microsoft-Windows-PowerShell/Operational\"\n",
    "    AND EventID = 53504\n",
    "```\n",
    "\n",
    "#### Pandas Query"
   ]
  },
  {
   "cell_type": "code",
   "execution_count": null,
   "id": "264733e8",
   "metadata": {},
   "outputs": [],
   "source": [
    "(\n",
    "df[['@timestamp','Hostname','Message']]\n",
    "\n",
    "[(df['Channel'] == 'Microsoft-Windows-PowerShell/Operational')\n",
    "    & (df['EventID'] == 53504)\n",
    "]\n",
    ".head()\n",
    ")"
   ]
  },
  {
   "cell_type": "markdown",
   "id": "1eada431",
   "metadata": {},
   "source": [
    "## Known Bypasses\n",
    "\n",
    "## False Positives\n",
    "\n",
    "\n",
    "\n",
    "## Hunter Notes\n",
    "\n",
    "* Explore the data produced in your environment with the analytics above and document what normal looks like from a PowerShell perspective.\n",
    "* If execution of PowerShell happens all the time in your environment, I suggest to categorize the data you collect by business unit to build profiles and be able to filter out potential noise.\n",
    "* You can also stack the values of the command line arguments being used. You can hash the command line arguments too and stack the values.\n",
    "\n",
    "## Hunt Output\n",
    "\n",
    "| Type | Link |\n",
    "| :----| :----|\n",
    "| Sigma Rule | https://github.com/SigmaHQ/sigma/blob/master/rules/windows/pipe_created/sysmon_powershell_execution_pipe.yml |\n",
    "| Sigma Rule | https://github.com/SigmaHQ/sigma/blob/master/rules/windows/process_creation/win_non_interactive_powershell.yml |\n",
    "\n",
    "## References\n",
    "* https://github.com/darkoperator/Presentations/blob/master/PSConfEU%202019%20Tracking%20PowerShell%20Usage.pdf\n",
    "* https://posts.specterops.io/abusing-powershell-desired-state-configuration-for-lateral-movement-ca42ddbe6f06"
   ]
  }
 ],
 "metadata": {
  "jupytext": {
   "formats": "md:myst",
   "text_representation": {
    "extension": ".md",
    "format_name": "myst",
    "format_version": "1.3",
    "jupytext_version": "1.14.1"
   }
  },
  "kernelspec": {
   "display_name": "Python 3",
   "language": "python",
   "name": "python3"
  },
  "source_map": [
   13,
   37,
   46,
   50,
   55,
   81,
   93,
   116,
   127,
   150,
   161,
   183,
   196,
   218,
   228,
   249,
   258
  ]
 },
 "nbformat": 4,
 "nbformat_minor": 5
}