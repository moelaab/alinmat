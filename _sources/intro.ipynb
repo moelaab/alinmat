{
 "cells": [
  {
   "cell_type": "markdown",
   "id": "e402ce4d",
   "metadata": {},
   "source": [
    "# Introduction\n",
    "\n",
    "[![License: MIT](https://img.shields.io/badge/License-MIT-yellow.svg)](https://opensource.org/licenses/MIT)\n",
    "[![](https://img.shields.io/twitter/follow/HunterPlaybook.svg?style=social&label=Follow)](https://twitter.com/HunterPlaybook)\n",
    "[![Open_Threat_Research Community](https://img.shields.io/badge/Open_Threat_Research-Community-brightgreen.svg)](https://twitter.com/OTR_Community)\n",
    "[![](https://badges.frapsoft.com/os/v3/open-source.svg?v=103)](https://github.com/ellerbrock/open-source-badges/)\n",
    "\n",
    "The Threat Hunter Playbook is a community-driven, open source project to share detection logic, adversary tradecraft and resources to make detection development more efficient. All the detection documents in this project follow the structure of [MITRE ATT&CK](https://attack.mitre.org/) categorizing post-compromise adversary behavior in tactical groups and are available in the form of [interactive notebooks](https://docs.jupyter.org/en/latest/projects/architecture/content-architecture.html#the-jupyter-notebook-format). The use of notebooks not only allow us to share text, queries and expected output, but also code to help others run detection logic against [pre-recorded security datasets](https://securitydatasets.com) locally or remotely through [BinderHub](https://mybinder.readthedocs.io/en/latest/index.html) cloud computing environments. \n",
    "\n",
    "## Goals\n",
    "\n",
    "* Expedite the development of techniques an hypothesis for hunting campaigns.\n",
    "* Help security researchers understand patterns of behavior observed during post-exploitation.\n",
    "* Share resources to validate analytics locally or remotely through cloud computing environments for free.\n",
    "* Map pre-recorded datasets to adversarial techniques.\n",
    "* Accelerate infosec learning through open source resources.\n",
    "\n",
    "## Author\n",
    "\n",
    "Roberto Rodriguez [@Cyb3rWard0g](https://twitter.com/Cyb3rWard0g)\n",
    "\n",
    "## Official Committers\n",
    "\n",
    "* Jose Luis Rodriguez [@Cyb3rPandaH](https://twitter.com/Cyb3rPandaH) is adding his expertise in data science to it.\n",
    "\n",
    "## Acknowledgements\n",
    "\n",
    "* We document and share our content via a [Jupyter Book](https://jupyterbook.org/intro.html) which was created by [Sam Lau](http://www.samlau.me/) and [Chris Holdgraf](https://predictablynoisy.com/) with support of the **UC Berkeley Data Science Education Program and the [Berkeley Institute for Data Science](https://bids.berkeley.edu/)**"
   ]
  }
 ],
 "metadata": {
  "jupytext": {
   "formats": "md:myst",
   "text_representation": {
    "extension": ".md",
    "format_name": "myst",
    "format_version": "1.3",
    "jupytext_version": "1.14.1"
   }
  },
  "kernelspec": {
   "display_name": "Python 3",
   "language": "python",
   "name": "python3"
  },
  "source_map": [
   13
  ]
 },
 "nbformat": 4,
 "nbformat_minor": 5
}